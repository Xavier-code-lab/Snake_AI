!git clone https://github.com/Xavier-code-lab/Snake_AI.git
%cd Snake_AI

from agent import train

train()
