{
  "nbformat": 4,
  "nbformat_minor": 0,
  "metadata": {
    "colab": {
      "provenance": [],
      "authorship_tag": "ABX9TyPxPClHSkeErq2cmqpP5F3U",
      "include_colab_link": true
    },
    "kernelspec": {
      "name": "python3",
      "display_name": "Python 3"
    },
    "language_info": {
      "name": "python"
    }
  },
  "cells": [
    {
      "cell_type": "markdown",
      "metadata": {
        "id": "view-in-github",
        "colab_type": "text"
      },
      "source": [
        "<a href=\"https://colab.research.google.com/github/Xavier-code-lab/Snake_AI/blob/main/train.ipynb\" target=\"_parent\"><img src=\"https://colab.research.google.com/assets/colab-badge.svg\" alt=\"Open In Colab\"/></a>"
      ]
    },
    {
      "cell_type": "code",
      "execution_count": null,
      "metadata": {
        "id": "qwigxlaHnaRR"
      },
      "outputs": [],
      "source": [
        "!git clone https://github.com/Xavier-code-lab/Snake_AI.git\n",
        "%cd Snake_AI"
      ]
    },
    {
      "cell_type": "code",
      "source": [
        "from agent import train\n",
        "\n",
        "train()"
      ],
      "metadata": {
        "id": "rohD54PLnfQo"
      },
      "execution_count": null,
      "outputs": []
    }
  ]
}